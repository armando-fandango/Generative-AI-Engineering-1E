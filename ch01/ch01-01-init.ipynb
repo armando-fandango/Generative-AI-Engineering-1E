{
 "cells": [
  {
   "cell_type": "markdown",
   "id": "26c44670-7626-4a1a-8fc8-c5a03ff33638",
   "metadata": {},
   "source": [
    "# Initialize Chapter 01 Pre-requisites"
   ]
  },
  {
   "cell_type": "code",
   "execution_count": 1,
   "id": "9e86281a-11f7-44ce-b6a1-3e4b7cc54ba8",
   "metadata": {
    "execution": {
     "iopub.execute_input": "2023-05-25T13:51:28.784655Z",
     "iopub.status.busy": "2023-05-25T13:51:28.784230Z",
     "iopub.status.idle": "2023-05-25T13:51:31.639796Z",
     "shell.execute_reply": "2023-05-25T13:51:31.638980Z",
     "shell.execute_reply.started": "2023-05-25T13:51:28.784629Z"
    },
    "tags": []
   },
   "outputs": [
    {
     "name": "stdout",
     "output_type": "stream",
     "text": [
      "transformers 4.29.2\n",
      "diffusers 0.16.1\n",
      "torch 2.0.1\n"
     ]
    }
   ],
   "source": [
    "import transformers\n",
    "print(f'transformers {transformers.__version__}')\n",
    "import diffusers\n",
    "print(f'diffusers {diffusers.__version__}')\n",
    "import torch\n",
    "print(f'torch {torch.__version__}')"
   ]
  },
  {
   "cell_type": "code",
   "execution_count": 12,
   "id": "89e280d4-2817-4e40-b73c-9b2f3544a8f2",
   "metadata": {
    "execution": {
     "iopub.execute_input": "2023-05-25T14:16:20.178592Z",
     "iopub.status.busy": "2023-05-25T14:16:20.177873Z",
     "iopub.status.idle": "2023-05-25T14:16:20.184092Z",
     "shell.execute_reply": "2023-05-25T14:16:20.183320Z",
     "shell.execute_reply.started": "2023-05-25T14:16:20.178560Z"
    },
    "tags": []
   },
   "outputs": [],
   "source": [
    "def download_transformer(model, force_download=False, resume_download=True):\n",
    "    print(f'downloading {model}....')\n",
    "    transformers.AutoTokenizer.from_pretrained(model,force_download=force_download,resume_download=resume_download)\n",
    "    transformers.AutoModel.from_pretrained(model,force_download=force_download,resume_download=resume_download)\n",
    "def download_diffuser(model, force_download=False, resume_download=True):\n",
    "    print(f'downloading {model}....')\n",
    "    diffusers.StableDiffusionPipeline.from_pretrained(model, torch_dtype=torch.float16)"
   ]
  },
  {
   "cell_type": "code",
   "execution_count": 13,
   "id": "201bf89a-adb5-4cef-957d-88cea6849cb9",
   "metadata": {
    "execution": {
     "iopub.execute_input": "2023-05-25T14:16:21.499383Z",
     "iopub.status.busy": "2023-05-25T14:16:21.499023Z",
     "iopub.status.idle": "2023-05-25T14:16:21.505299Z",
     "shell.execute_reply": "2023-05-25T14:16:21.504389Z",
     "shell.execute_reply.started": "2023-05-25T14:16:21.499351Z"
    },
    "tags": []
   },
   "outputs": [],
   "source": [
    "models=[\n",
    "        'beomi/KoAlpaca-Polyglot-12.8B',  # 26G\n",
    "        'bigscience/bloom-7b1',              \n",
    "        'declare-lab/flan-alpaca-xl',\n",
    "        'declare-lab/flan-alpaca-xxl',\n",
    "        'elinas/llama-7b-hf-transformers-4.29',\n",
    "        'elinas/llama-13b-hf-transformers-4.29',    \n",
    "        'facebook/blenderbot-400M-distill',\n",
    "        'gpt2',\n",
    "        'distilgpt2',\n",
    "        'gpt2-large',\n",
    "        'HuggingFaceH4/starchat-alpha',        \n",
    "        'lmsys/fastchat-t5-3b-v1.0',\n",
    "        'LLMs/Vicuna-7b-v1.1',\n",
    "        'LLMs/Vicuna-13b-v1.1',\n",
    "        'microsoft/DialoGPT-small',\n",
    "        'microsoft/DialoGPT-medium',\n",
    "        'microsoft/DialoGPT-large',\n",
    "        'mosaicml/mpt-7b-chat',        \n",
    "        'openai/whisper-large',\n",
    "        'OpenAssistant/stablelm-7b-sft-v7-epoch-3',        \n",
    "        'project-baize/baize-v2-7b',\n",
    "        'project-baize/baize-v2-13b',        \n",
    "        'stabilityai/stablelm-tuned-alpha-3b',\n",
    "        'stabilityai/stablelm-tuned-alpha-7b',\n",
    "        'stabilityai/stablelm-base-alpha-3b',\n",
    "        'stabilityai/stablelm-base-alpha-7b',\n",
    "        'togethercomputer/RedPajama-INCITE-Chat-7B-v0.1',\n",
    "        'Writer/camel-5b-hf',\n",
    "        'Writer/camel-20b',\n",
    "       ]"
   ]
  },
  {
   "cell_type": "code",
   "execution_count": 16,
   "id": "b70e6019-9336-45ee-9042-ae7bd2acdaac",
   "metadata": {
    "execution": {
     "iopub.execute_input": "2023-05-25T14:18:02.353480Z",
     "iopub.status.busy": "2023-05-25T14:18:02.353000Z",
     "iopub.status.idle": "2023-05-25T14:18:26.859569Z",
     "shell.execute_reply": "2023-05-25T14:18:26.858784Z",
     "shell.execute_reply.started": "2023-05-25T14:18:02.353448Z"
    },
    "tags": []
   },
   "outputs": [
    {
     "name": "stdout",
     "output_type": "stream",
     "text": [
      "downloading gpt2....\n",
      "downloading distilgpt2....\n"
     ]
    },
    {
     "name": "stderr",
     "output_type": "stream",
     "text": [
      "Some weights of the model checkpoint at distilgpt2 were not used when initializing GPT2Model: ['lm_head.weight']\n",
      "- This IS expected if you are initializing GPT2Model from the checkpoint of a model trained on another task or with another architecture (e.g. initializing a BertForSequenceClassification model from a BertForPreTraining model).\n",
      "- This IS NOT expected if you are initializing GPT2Model from the checkpoint of a model that you expect to be exactly identical (initializing a BertForSequenceClassification model from a BertForSequenceClassification model).\n"
     ]
    },
    {
     "name": "stdout",
     "output_type": "stream",
     "text": [
      "downloading facebook/blenderbot-400M-distill....\n"
     ]
    },
    {
     "name": "stderr",
     "output_type": "stream",
     "text": [
      "Some weights of the model checkpoint at facebook/blenderbot-400M-distill were not used when initializing BlenderbotModel: ['lm_head.weight', 'final_logits_bias']\n",
      "- This IS expected if you are initializing BlenderbotModel from the checkpoint of a model trained on another task or with another architecture (e.g. initializing a BertForSequenceClassification model from a BertForPreTraining model).\n",
      "- This IS NOT expected if you are initializing BlenderbotModel from the checkpoint of a model that you expect to be exactly identical (initializing a BertForSequenceClassification model from a BertForSequenceClassification model).\n"
     ]
    },
    {
     "name": "stdout",
     "output_type": "stream",
     "text": [
      "downloading openai/whisper-large....\n"
     ]
    }
   ],
   "source": [
    "model='gpt2',\n",
    "download_transformer(model)"
   ]
  },
  {
   "cell_type": "code",
   "execution_count": null,
   "id": "7278ee23-73d2-4ba9-bd4e-d89c7754b747",
   "metadata": {},
   "outputs": [],
   "source": [
    "model='distilgpt2',\n",
    "download_transformer(model)"
   ]
  },
  {
   "cell_type": "code",
   "execution_count": null,
   "id": "9a52e16b-2487-4588-9100-444924243b9d",
   "metadata": {},
   "outputs": [],
   "source": [
    "model='gpt2-large',\n",
    "download_transformer(model)"
   ]
  },
  {
   "cell_type": "code",
   "execution_count": null,
   "id": "aa264824-6028-4717-becd-45b5cdfe24a0",
   "metadata": {},
   "outputs": [],
   "source": [
    "model='facebook/blenderbot-400M-distill',\n",
    "download_transformer(model)"
   ]
  },
  {
   "cell_type": "code",
   "execution_count": null,
   "id": "7f26637d-df31-4b13-9935-3736c1b82ca2",
   "metadata": {},
   "outputs": [],
   "source": [
    "model='openai/whisper-large',\n",
    "download_transformer(model)"
   ]
  },
  {
   "cell_type": "code",
   "execution_count": null,
   "id": "7f0ea211-3750-424e-a94a-118261deac15",
   "metadata": {},
   "outputs": [],
   "source": [
    "model='stabilityai/stable-diffusion-2-1'\n",
    "download_diffuser(model)"
   ]
  },
  {
   "cell_type": "code",
   "execution_count": 17,
   "id": "0f096f44-c9cb-46ef-8fb5-8fdb4320098f",
   "metadata": {
    "execution": {
     "iopub.execute_input": "2023-05-25T14:29:10.341520Z",
     "iopub.status.busy": "2023-05-25T14:29:10.341210Z",
     "iopub.status.idle": "2023-05-25T14:29:10.345383Z",
     "shell.execute_reply": "2023-05-25T14:29:10.344534Z",
     "shell.execute_reply.started": "2023-05-25T14:29:10.341494Z"
    },
    "tags": []
   },
   "outputs": [],
   "source": [
    "models='damo-vilab/text-to-video-ms-1.7b'\n",
    "download_diffuser(model)"
   ]
  },
  {
   "cell_type": "markdown",
   "id": "2c0dff5b-280d-4282-bd12-24050dbfee00",
   "metadata": {
    "tags": []
   },
   "source": [
    "# Release resources"
   ]
  },
  {
   "cell_type": "code",
   "execution_count": 19,
   "id": "3045d14b-13f5-4086-bb69-3f55f3e87c86",
   "metadata": {
    "execution": {
     "iopub.execute_input": "2023-05-25T14:30:36.587553Z",
     "iopub.status.busy": "2023-05-25T14:30:36.587196Z",
     "iopub.status.idle": "2023-05-25T14:30:36.594820Z",
     "shell.execute_reply": "2023-05-25T14:30:36.593810Z",
     "shell.execute_reply.started": "2023-05-25T14:30:36.587523Z"
    },
    "tags": []
   },
   "outputs": [
    {
     "data": {
      "text/html": [
       "\n",
       "<p><b>Shutting down your kernel for this notebook to release resources.</b></p>\n",
       "<button class=\"sm-command-button\" data-commandlinker-command=\"kernelmenu:shutdown\" style=\"display:none;\">Shutdown Kernel</button>\n",
       "\n",
       "<script>\n",
       "try {\n",
       "    els = document.getElementsByClassName(\"sm-command-button\");\n",
       "    els[0].click();\n",
       "}\n",
       "catch(err) {\n",
       "    // NoOp\n",
       "}    \n",
       "</script>\n",
       "\n",
       "# code credit: https://github.com/data-science-on-aws/data-science-on-aws/blob/generative/00_Overview.ipynb\n"
      ],
      "text/plain": [
       "<IPython.core.display.HTML object>"
      ]
     },
     "metadata": {},
     "output_type": "display_data"
    }
   ],
   "source": [
    "%%html\n",
    "\n",
    "<p><b>Shutting down your kernel for this notebook to release resources.</b></p>\n",
    "<button class=\"sm-command-button\" data-commandlinker-command=\"kernelmenu:shutdown\" style=\"display:none;\">Shutdown Kernel</button>\n",
    "\n",
    "<script>\n",
    "try {\n",
    "    els = document.getElementsByClassName(\"sm-command-button\");\n",
    "    els[0].click();\n",
    "}\n",
    "catch(err) {\n",
    "    // NoOp\n",
    "}    \n",
    "</script>\n",
    "\n",
    "# code credit: https://github.com/data-science-on-aws/data-science-on-aws/"
   ]
  }
 ],
 "metadata": {
  "kernelspec": {
   "display_name": "Python 3 (ipykernel)",
   "language": "python",
   "name": "python3"
  },
  "language_info": {
   "codemirror_mode": {
    "name": "ipython",
    "version": 3
   },
   "file_extension": ".py",
   "mimetype": "text/x-python",
   "name": "python",
   "nbconvert_exporter": "python",
   "pygments_lexer": "ipython3",
   "version": "3.10.10"
  }
 },
 "nbformat": 4,
 "nbformat_minor": 5
}
