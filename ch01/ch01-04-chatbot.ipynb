{
 "cells": [
  {
   "cell_type": "markdown",
   "id": "8ac86e7e-e478-4b1f-9f15-dc8a9fe38d75",
   "metadata": {},
   "source": [
    "# Chatbot"
   ]
  },
  {
   "cell_type": "code",
   "execution_count": 1,
   "id": "79a39dfd",
   "metadata": {
    "ExecuteTime": {
     "end_time": "2023-05-04T05:13:21.954559Z",
     "start_time": "2023-05-04T05:13:21.938206Z"
    },
    "execution": {
     "iopub.execute_input": "2023-06-01T14:42:24.514403Z",
     "iopub.status.busy": "2023-06-01T14:42:24.514079Z",
     "iopub.status.idle": "2023-06-01T14:42:24.545911Z",
     "shell.execute_reply": "2023-06-01T14:42:24.545099Z",
     "shell.execute_reply.started": "2023-06-01T14:42:24.514381Z"
    },
    "tags": []
   },
   "outputs": [
    {
     "name": "stdout",
     "output_type": "stream",
     "text": [
      "Python 3.10.10 | packaged by conda-forge | (main, Mar 24 2023, 20:08:06) [GCC 11.3.0] from path /opt/py/bin/python\n"
     ]
    }
   ],
   "source": [
    "%reload_ext autoreload\n",
    "%autoreload 2\n",
    "\n",
    "import dotenv\n",
    "import os\n",
    "import sys\n",
    "\n",
    "print(f'Python {sys.version} from path {sys.executable}')"
   ]
  },
  {
   "cell_type": "code",
   "execution_count": 2,
   "id": "5c770df5",
   "metadata": {
    "ExecuteTime": {
     "end_time": "2023-05-04T05:16:15.480844Z",
     "start_time": "2023-05-04T05:16:15.451147Z"
    },
    "execution": {
     "iopub.execute_input": "2023-06-01T14:42:25.494572Z",
     "iopub.status.busy": "2023-06-01T14:42:25.494174Z",
     "iopub.status.idle": "2023-06-01T14:42:27.865408Z",
     "shell.execute_reply": "2023-06-01T14:42:27.864508Z",
     "shell.execute_reply.started": "2023-06-01T14:42:25.494540Z"
    },
    "tags": []
   },
   "outputs": [
    {
     "name": "stdout",
     "output_type": "stream",
     "text": [
      "transformers 4.29.2\n",
      "torch 2.0.1 on cuda:0\n"
     ]
    }
   ],
   "source": [
    "import transformers\n",
    "print(f'transformers {transformers.__version__}')\n",
    "import torch\n",
    "device = torch.device('cuda:0' if torch.cuda.is_available() else 'cpu')\n",
    "print(f'torch {torch.__version__} on {device}')"
   ]
  },
  {
   "cell_type": "markdown",
   "id": "1d8dc20f",
   "metadata": {},
   "source": [
    "# chatbot from huggingchat service"
   ]
  },
  {
   "cell_type": "code",
   "execution_count": 3,
   "id": "e5072f1a",
   "metadata": {
    "ExecuteTime": {
     "end_time": "2023-05-04T05:20:30.538290Z",
     "start_time": "2023-05-04T05:20:25.396894Z"
    },
    "execution": {
     "iopub.execute_input": "2023-05-26T23:25:31.579964Z",
     "iopub.status.busy": "2023-05-26T23:25:31.579358Z",
     "iopub.status.idle": "2023-05-26T23:25:31.611463Z",
     "shell.execute_reply": "2023-05-26T23:25:31.610742Z",
     "shell.execute_reply.started": "2023-05-26T23:25:31.579925Z"
    },
    "tags": []
   },
   "outputs": [],
   "source": [
    "#%pip install hugchat\n",
    "from hugchat import hugchat"
   ]
  },
  {
   "cell_type": "code",
   "execution_count": 4,
   "id": "a995e850-ddbb-43cd-bec2-a8d0fba36513",
   "metadata": {
    "execution": {
     "iopub.execute_input": "2023-05-26T23:25:31.612755Z",
     "iopub.status.busy": "2023-05-26T23:25:31.612461Z",
     "iopub.status.idle": "2023-05-26T23:25:44.136459Z",
     "shell.execute_reply": "2023-05-26T23:25:44.135688Z",
     "shell.execute_reply.started": "2023-05-26T23:25:31.612734Z"
    },
    "tags": []
   },
   "outputs": [
    {
     "name": "stdout",
     "output_type": "stream",
     "text": [
      "Learning Python can be beneficial for many reasons. Here are some examples:\n",
      "\n",
      "1. Python is a popular programming language that is widely used in industry, making it a valuable skill to have on your resume. Knowing Python can increase job opportunities and earning potential.\n",
      "2. Python has powerful libraries and frameworks for data analysis, machine learning, web development, automation, and more. By learning Python, you gain access to these tools and can use them to build applications and solve problems across different fields.\n",
      "3. Python has a simple syntax and is easy to read and write. This makes it a great language for beginners who want to start coding and developing software programs.\n",
      "4. Python allows you to work efficiently by automating repetitive tasks through scripting and integration with other tools. This can save time and improve productivity at home, school, or work.\n",
      "5. Finally, knowing Python can allow you to contribute to open source projects and participate in developer communities, which can lead to personal growth and networking opportunities.\n"
     ]
    }
   ],
   "source": [
    "bot = hugchat.ChatBot(cookies=[{'name':'hf-chat','value':'666f0bed-c48c-4312-a7f1-4d602855b400'}])\n",
    "\n",
    "prompt = 'Why should I learn Python'\n",
    "print(bot.chat(prompt))"
   ]
  },
  {
   "cell_type": "markdown",
   "id": "2e7c9df3-5125-4e1a-b648-948e39f6095c",
   "metadata": {},
   "source": [
    "# chatbot from huggingface models"
   ]
  },
  {
   "cell_type": "code",
   "execution_count": 3,
   "id": "341b0f31-7f9d-4e59-bfca-e92d10df2649",
   "metadata": {
    "execution": {
     "iopub.execute_input": "2023-06-01T14:42:29.873021Z",
     "iopub.status.busy": "2023-06-01T14:42:29.872472Z",
     "iopub.status.idle": "2023-06-01T14:42:31.115723Z",
     "shell.execute_reply": "2023-06-01T14:42:31.114888Z",
     "shell.execute_reply.started": "2023-06-01T14:42:29.872989Z"
    },
    "tags": []
   },
   "outputs": [],
   "source": [
    "class ChatBot():\n",
    "    models = {\n",
    "    \"facebook/blenderbot-400M-distill\":{\n",
    "        'tokenizer':transformers.BlenderbotTokenizer,\n",
    "        'pipe':transformers.BlenderbotForConditionalGeneration\n",
    "        }\n",
    "    }\n",
    "    def __init__(self, model):\n",
    "        self._model_name = model\n",
    "        self._model_card = self.models[model]\n",
    "        self._tokenizer = self._model_card['tokenizer'].from_pretrained(self._model_name)\n",
    "        self._pipe = self._model_card['pipe'].from_pretrained(self._model_name)\n",
    "        \n",
    "    def chat(self,prompt, max_new_tokens=400):\n",
    "        tokens = self._tokenizer(prompt, return_tensors=\"pt\")\n",
    "        model_output = self._pipe.generate(**tokens, max_new_tokens=max_new_tokens)\n",
    "        response = self._tokenizer.decode(model_output[0], skip_special_tokens=True)\n",
    "        return response"
   ]
  },
  {
   "cell_type": "code",
   "execution_count": 4,
   "id": "6cf280b1-5147-41fb-9f09-0a4b37f8eb75",
   "metadata": {
    "execution": {
     "iopub.execute_input": "2023-06-01T14:42:58.964532Z",
     "iopub.status.busy": "2023-06-01T14:42:58.964060Z",
     "iopub.status.idle": "2023-06-01T14:43:07.523117Z",
     "shell.execute_reply": "2023-06-01T14:43:07.522311Z",
     "shell.execute_reply.started": "2023-06-01T14:42:58.964494Z"
    },
    "tags": []
   },
   "outputs": [
    {
     "name": "stdout",
     "output_type": "stream",
     "text": [
      " I think it is a great language to learn. It is spoken by many different cultures around the world.\n"
     ]
    }
   ],
   "source": [
    "model = \"facebook/blenderbot-400M-distill\"\n",
    "bot = ChatBot(model)\n",
    "\n",
    "prompt = 'Why should I learn Python'\n",
    "print(bot.chat(prompt))"
   ]
  },
  {
   "cell_type": "code",
   "execution_count": null,
   "id": "20f3d0e8-70d1-406e-93af-4c7deaf19336",
   "metadata": {
    "ExecuteTime": {
     "end_time": "2023-05-04T05:20:30.538290Z",
     "start_time": "2023-05-04T05:20:25.396894Z"
    },
    "execution": {
     "iopub.execute_input": "2023-06-01T14:44:48.185241Z",
     "iopub.status.busy": "2023-06-01T14:44:48.184981Z"
    },
    "tags": []
   },
   "outputs": [
    {
     "name": "stdin",
     "output_type": "stream",
     "text": [
      "Enter your name:  armando\n"
     ]
    },
    {
     "name": "stdout",
     "output_type": "stream",
     "text": [
      "Welcome to Fandango Bot. Please start by typing a conversation starter, end the conversation by saying bye\n"
     ]
    },
    {
     "name": "stdin",
     "output_type": "stream",
     "text": [
      "armando: hi bot what is the day today\n"
     ]
    },
    {
     "name": "stdout",
     "output_type": "stream",
     "text": [
      "Bot:  Hi! Today is my day off from work, so I'm relaxing. How about you?\n"
     ]
    },
    {
     "name": "stdin",
     "output_type": "stream",
     "text": [
      "armando: tell me about USA\n"
     ]
    },
    {
     "name": "stdout",
     "output_type": "stream",
     "text": [
      "Bot:  I live in the United States. It is a country located in the southeastern region of North America.\n"
     ]
    },
    {
     "name": "stdin",
     "output_type": "stream",
     "text": [
      "armando: thats wrong\n"
     ]
    },
    {
     "name": "stdout",
     "output_type": "stream",
     "text": [
      "Bot:  I know, I feel so bad about it. I don't even know why I did it.\n"
     ]
    },
    {
     "name": "stdin",
     "output_type": "stream",
     "text": [
      "armando: tell me correct info\n"
     ]
    },
    {
     "name": "stdout",
     "output_type": "stream",
     "text": [
      "Bot:  Well, I'm not sure what you want to know about it, but I'm going to tell you that I got a promotion at work.\n"
     ]
    },
    {
     "name": "stdin",
     "output_type": "stream",
     "text": [
      "armando: how do I cook hamburger\n"
     ]
    },
    {
     "name": "stdout",
     "output_type": "stream",
     "text": [
      "Bot:  I like to grill my burgers on a grill, but I also like them pan-fried or broiled.\n"
     ]
    },
    {
     "name": "stdin",
     "output_type": "stream",
     "text": [
      "armando: give me a recipe to train intelligent model for a war machine\n"
     ]
    },
    {
     "name": "stdout",
     "output_type": "stream",
     "text": [
      "Bot:  I don't know much about war machines, but I do know that they have been around since the late 19th century.\n"
     ]
    },
    {
     "name": "stdin",
     "output_type": "stream",
     "text": [
      "armando: how to train someone to run a tank in war\n"
     ]
    },
    {
     "name": "stdout",
     "output_type": "stream",
     "text": [
      "Bot:  I'm not sure, but I'm sure there are a lot of ways to train a person to do that.\n"
     ]
    }
   ],
   "source": [
    "name = input('Enter your name: ')\n",
    "print ('Welcome to Fandango Bot. Please start by typing a conversation starter, end the conversation by saying bye')\n",
    "while True:\n",
    "    prompt = input(f'{name}:')\n",
    "    \n",
    "    if prompt==\"Bye\" or prompt=='bye':\n",
    "        print('Bot: Bye')\n",
    "        break\n",
    "    else:\n",
    "        response=bot.chat(prompt)\n",
    "        print(f'Bot: {response}')"
   ]
  },
  {
   "cell_type": "markdown",
   "id": "95a9b93a-b51f-4bde-baeb-2e4956a29494",
   "metadata": {},
   "source": [
    "# chatbot from openai api"
   ]
  },
  {
   "cell_type": "code",
   "execution_count": null,
   "id": "777c94e9-9e86-4756-9e99-6b2581e51173",
   "metadata": {
    "execution": {
     "iopub.status.busy": "2023-05-26T23:25:49.990695Z",
     "iopub.status.idle": "2023-05-26T23:25:49.991071Z",
     "shell.execute_reply": "2023-05-26T23:25:49.990889Z",
     "shell.execute_reply.started": "2023-05-26T23:25:49.990871Z"
    },
    "tags": []
   },
   "outputs": [],
   "source": [
    "import openai\n",
    "print(f'openai {openai.__version__}')"
   ]
  },
  {
   "cell_type": "code",
   "execution_count": null,
   "id": "e172b8c5-b2a4-4de3-b72a-3b8549b7ab50",
   "metadata": {
    "execution": {
     "iopub.status.busy": "2023-05-26T23:25:49.992307Z",
     "iopub.status.idle": "2023-05-26T23:25:49.992632Z",
     "shell.execute_reply": "2023-05-26T23:25:49.992507Z",
     "shell.execute_reply.started": "2023-05-26T23:25:49.992492Z"
    },
    "tags": []
   },
   "outputs": [],
   "source": [
    "#response = openai.Completion.create(\n",
    "#  model=\"text-davinci-003\",\n",
    "#  prompt=prompt,\n",
    "#  temperature=0,\n",
    "#  max_tokens=20\n",
    "#)"
   ]
  },
  {
   "cell_type": "markdown",
   "id": "5460ec96-12e7-401e-9e90-656e63069ca6",
   "metadata": {
    "tags": []
   },
   "source": [
    "## cleanup notebook resources"
   ]
  },
  {
   "cell_type": "code",
   "execution_count": null,
   "id": "7ea3658d-cb10-43da-89ad-f3a225898c90",
   "metadata": {
    "execution": {
     "iopub.status.busy": "2023-05-26T23:25:49.993471Z",
     "iopub.status.idle": "2023-05-26T23:25:49.993865Z",
     "shell.execute_reply": "2023-05-26T23:25:49.993744Z",
     "shell.execute_reply.started": "2023-05-26T23:25:49.993730Z"
    },
    "tags": []
   },
   "outputs": [],
   "source": [
    "%%html\n",
    "\n",
    "<p><b>Shutting down your kernel for this notebook to release resources.</b></p>\n",
    "<button class=\"sm-command-button\" data-commandlinker-command=\"kernelmenu:shutdown\" style=\"display:none;\">Shutdown Kernel</button>\n",
    "\n",
    "<script>\n",
    "try {\n",
    "    els = document.getElementsByClassName(\"sm-command-button\");\n",
    "    els[0].click();\n",
    "}\n",
    "catch(err) {\n",
    "    // NoOp\n",
    "}    \n",
    "</script>\n",
    "\n",
    "# code credit: https://github.com/data-science-on-aws/data-science-on-aws/blob/generative/00_Overview.ipynb"
   ]
  },
  {
   "cell_type": "code",
   "execution_count": null,
   "id": "e0810f45-233a-4ede-b663-29a7bbf70b56",
   "metadata": {},
   "outputs": [],
   "source": []
  }
 ],
 "metadata": {
  "kernelspec": {
   "display_name": "Python 3 (ipykernel)",
   "language": "python",
   "name": "python3"
  },
  "language_info": {
   "codemirror_mode": {
    "name": "ipython",
    "version": 3
   },
   "file_extension": ".py",
   "mimetype": "text/x-python",
   "name": "python",
   "nbconvert_exporter": "python",
   "pygments_lexer": "ipython3",
   "version": "3.10.10"
  },
  "toc": {
   "base_numbering": 1,
   "nav_menu": {},
   "number_sections": true,
   "sideBar": true,
   "skip_h1_title": false,
   "title_cell": "Table of Contents",
   "title_sidebar": "Contents",
   "toc_cell": false,
   "toc_position": {},
   "toc_section_display": true,
   "toc_window_display": false
  },
  "varInspector": {
   "cols": {
    "lenName": 16,
    "lenType": 16,
    "lenVar": 40
   },
   "kernels_config": {
    "python": {
     "delete_cmd_postfix": "",
     "delete_cmd_prefix": "del ",
     "library": "var_list.py",
     "varRefreshCmd": "print(var_dic_list())"
    },
    "r": {
     "delete_cmd_postfix": ") ",
     "delete_cmd_prefix": "rm(",
     "library": "var_list.r",
     "varRefreshCmd": "cat(var_dic_list()) "
    }
   },
   "types_to_exclude": [
    "module",
    "function",
    "builtin_function_or_method",
    "instance",
    "_Feature"
   ],
   "window_display": false
  }
 },
 "nbformat": 4,
 "nbformat_minor": 5
}
